{
 "cells": [
  {
   "cell_type": "markdown",
   "metadata": {},
   "source": [
    "## Introduction to Mechanics of Fluids - Final Project \n",
    "### Energy Conservation Analysis of a Wind Turbine\n",
    "#### Felipe dos Santos Couto"
   ]
  },
  {
   "cell_type": "markdown",
   "metadata": {},
   "source": [
    "Let the following image represent the control volume.\n",
    "\n",
    "Before the air mass approaches the actuator disk, its velocity is $V_i$. As it passes through the actuator disk, its velocity decreases to $V_d$ as kinetic energy is exctrated from the air to the blades. Further downstream, in the wake, its velocity is V_f.\n",
    "\n",
    "By definition, the interference factor (a) is given by the ratio: $a = \\frac{V_i-V_d}{V_i}$. So, $V_d = V_i(1-a)$. It is also defined: $V_f = V_i(1-2a)$.\n",
    "\n",
    "Governing equations are:\n",
    "\n",
    "Let $V$ indicate velocity and $\\tilde{V}$ indicate volume.\n",
    "\n",
    "1) Mass conservation: \n",
    "\n",
    "$\\frac{\\partial}{\\partial t}\\int_{CV} \\rho d\\tilde{V} + \\int_{CS} \\rho V \\cdot dA $\n",
    "\n",
    "2) Linear momentum: \n",
    "\n",
    "$ F_{S_x} + F_{B_x} = \\frac{\\partial}{\\partial t}\\int_{CV} u \\rho d\\tilde{V} + \\int_{CS} u \\rho V \\cdot dA $\n",
    "\n",
    "3) Energy conservation:\n",
    "\n",
    "$ \\dot{Q} - \\dot{W_s} = \\frac{\\partial}{\\partial t}\\int_{CV} e \\rho d\\tilde{V} + \\int_{CS} \\left(e + \\frac{p}{\\rho}\\right) \\rho V \\cdot dA $"
   ]
  },
  {
   "cell_type": "markdown",
   "metadata": {},
   "source": [
    "From Equation 3, assume:\n",
    "\n",
    "- No heat transfer;\n",
    "- Steady state;\n",
    "- No change in internal energy;\n",
    "\n",
    "$ -\\dot{W_s} = \\frac{V_i^2}{2}(-\\rho V_1A_1) + \\frac{V_f^2}{2}(\\rho V_fA_f) = \\rho V_d \\pi R^2 \\frac{1}{2} (V_f^2-V_i^2)$\n",
    "\n",
    "$ \\dot{W_s} = 2 \\rho V_i^3 \\pi R^2 a(1-a)^2$\n",
    "\n",
    "The Kinetic Energy Flow (total available energy) through the control volume is given by:\n",
    "\n",
    "$ KEF = \\frac{1}{2} \\rho V_i^3 \\pi R^2 $\n",
    "\n",
    "$ \\eta = \\frac{\\dot{W_s}}{KEF} = 4a(1-a)^2$\n",
    "\n",
    "Set $\\frac{d\\eta(a)}{da} = 0$. Find maximum efficiency (Betz limit)."
   ]
  },
  {
   "cell_type": "markdown",
   "metadata": {},
   "source": [
    "Given parameters for a typical distributed generation power plant in the city of Rio de Janeiro, how much power can be generated (using Betz limit)?\n",
    "\n",
    "- V = 6 m/s;\n",
    "- R = 10 m;"
   ]
  },
  {
   "cell_type": "code",
   "execution_count": null,
   "metadata": {},
   "outputs": [],
   "source": []
  }
 ],
 "metadata": {
  "kernelspec": {
   "display_name": "Python 3",
   "language": "python",
   "name": "python3"
  },
  "language_info": {
   "codemirror_mode": {
    "name": "ipython",
    "version": 3
   },
   "file_extension": ".py",
   "mimetype": "text/x-python",
   "name": "python",
   "nbconvert_exporter": "python",
   "pygments_lexer": "ipython3",
   "version": "3.7.1"
  }
 },
 "nbformat": 4,
 "nbformat_minor": 4
}
