{
 "cells": [
  {
   "cell_type": "markdown",
   "metadata": {},
   "source": [
    "## Introduction to Mechanics of Fluids - Final Project \n",
    "### Energy Conservation Analysis of a Wind Turbine\n",
    "#### Felipe dos Santos Couto"
   ]
  },
  {
   "cell_type": "markdown",
   "metadata": {},
   "source": [
    "Let the following image represent the control volume.\n",
    "\n",
    "Before the air mass approaches the actuator disk, its velocity is $V_i$. As it passes through the actuator disk, its velocity decreases to $V_d$ as kinetic energy is exctrated from the air to the blades. Further downstream, in the wake, its velocity is V_f.\n",
    "\n",
    "By definition, the interference factor (a) is given by the ratio: $a = \\frac{V_i-V_d}{V_i}$. So, $V_d = V_i(1-a)$. It is also defined: $V_f = V_i(1-2a)$.\n",
    "\n",
    "Governing equations are:\n",
    "\n",
    "Let $V$ indicate velocity and $\\tilde{V}$ indicate volume.\n",
    "\n",
    "1) Mass conservation: \n",
    "\n",
    "$\\frac{\\partial}{\\partial t}\\int_{CV} \\rho d\\tilde{V} + \\int_{CS} \\rho V \\cdot dA $\n",
    "\n",
    "2) Linear momentum: \n",
    "\n",
    "$ F_{S_x} + F_{B_x} = \\frac{\\partial}{\\partial t}\\int_{CV} u \\rho d\\tilde{V} + \\int_{CS} u \\rho V \\cdot dA $\n",
    "\n",
    "3) Energy conservation:\n",
    "\n",
    "$ \\dot{Q} - \\dot{W_s} = \\frac{\\partial}{\\partial t}\\int_{CV} e \\rho d\\tilde{V} + \\int_{CS} \\left(e + \\frac{p}{\\rho}\\right) \\rho V \\cdot dA $"
   ]
  },
  {
   "cell_type": "markdown",
   "metadata": {},
   "source": [
    "From Equation 3, assume:\n",
    "\n",
    "- No heat transfer;\n",
    "- Steady state;\n",
    "- No change in internal energy;\n",
    "\n",
    "$ -\\dot{W_s} = \\frac{V_i^2}{2}(-\\rho V_1A_1) + \\frac{V_f^2}{2}(\\rho V_fA_f) = \\rho V_d \\pi R^2 \\frac{1}{2} (V_f^2-V_i^2)$\n",
    "\n",
    "$ \\dot{W_s} = 2 \\rho V_i^3 \\pi R^2 a(1-a)^2$\n",
    "\n",
    "The Kinetic Energy Flow (total available energy) through the control volume is given by:\n",
    "\n",
    "$ KEF = \\frac{1}{2} \\rho V_i^3 \\pi R^2 $\n",
    "\n",
    "$ \\eta = \\frac{\\dot{W_s}}{KEF} = 4a(1-a)^2$\n",
    "\n",
    "Set $\\frac{d\\eta(a)}{da} = 0$ to find maximum possible efficiency (Betz limit).\n",
    "\n",
    "$\\frac{d}{da} 4a(1-a)^2 = 0 \\to \\frac{d}{da} 4a - 8a^2 + 4a^3 = 0 \\to 4 - 16a + 12a^2 = 0 \\to 3a^2 - 4a + 1 = 0$\n",
    "\n",
    "$ a = \\frac{4 \\pm \\sqrt{4^2-4*3*1}}{2*3} \\to a_1 = \\frac{1}{3}, a_2 = 1$. Clearly, $a_1$ is the solution that maximizes $\\eta$. \n",
    "\n",
    "Then, $\\eta\\left(\\frac{1}{3}\\right) = 4\\frac{1}{3}\\left(1-\\frac{1}{3}\\right)^2 = \\frac{16}{27} = 59.26\\% $"
   ]
  },
  {
   "cell_type": "markdown",
   "metadata": {},
   "source": [
    "Given parameters for a typical distributed generation power plant in the state of Rio de Janeiro, how much power can be generated (using Betz limit)?\n",
    "\n",
    "- V1 = 5 m/s;\n",
    "- V2 = 8 m/s;\n",
    "- R = 10 m;\n",
    "\n",
    "$\\dot{W_s} = \\eta (KEF) = \\eta \\left(\\frac{1}{2} \\rho V_i^3 \\pi R^2\\right)$"
   ]
  },
  {
   "cell_type": "code",
   "execution_count": 11,
   "metadata": {},
   "outputs": [
    {
     "data": {
      "text/html": [
       "<div>\n",
       "<style scoped>\n",
       "    .dataframe tbody tr th:only-of-type {\n",
       "        vertical-align: middle;\n",
       "    }\n",
       "\n",
       "    .dataframe tbody tr th {\n",
       "        vertical-align: top;\n",
       "    }\n",
       "\n",
       "    .dataframe thead th {\n",
       "        text-align: right;\n",
       "    }\n",
       "</style>\n",
       "<table border=\"1\" class=\"dataframe\">\n",
       "  <thead>\n",
       "    <tr style=\"text-align: right;\">\n",
       "      <th></th>\n",
       "      <th>Low winds, small-scale</th>\n",
       "      <th>High winds, small-scale</th>\n",
       "      <th>Low winds, large-scale</th>\n",
       "      <th>High winds, large-scale</th>\n",
       "    </tr>\n",
       "  </thead>\n",
       "  <tbody>\n",
       "    <tr>\n",
       "      <th>0</th>\n",
       "      <td>14253.52</td>\n",
       "      <td>58382.43</td>\n",
       "      <td>513126.8</td>\n",
       "      <td>2101767.37</td>\n",
       "    </tr>\n",
       "  </tbody>\n",
       "</table>\n",
       "</div>"
      ],
      "text/plain": [
       "   Low winds, small-scale  High winds, small-scale  Low winds, large-scale  \\\n",
       "0                14253.52                 58382.43                513126.8   \n",
       "\n",
       "   High winds, large-scale  \n",
       "0               2101767.37  "
      ]
     },
     "execution_count": 11,
     "metadata": {},
     "output_type": "execute_result"
    }
   ],
   "source": [
    "import math\n",
    "import numpy as np\n",
    "import pandas as pd\n",
    "\n",
    "n = 16/27\n",
    "rho = 1.225\n",
    "V1 = 5\n",
    "R1 = 10\n",
    "V2 = 8\n",
    "R2 = 60\n",
    "\n",
    "P_a = n*(1/2)*rho*V1**3*math.pi*R1**2\n",
    "P_b = n*(1/2)*rho*V2**3*math.pi*R1**2\n",
    "P_c = n*(1/2)*rho*V1**3*math.pi*R2**2\n",
    "P_d = n*(1/2)*rho*V2**3*math.pi*R2**2\n",
    "\n",
    "df = pd.DataFrame({'Low winds, small-scale':np.array([round(P_a,2)]),\n",
    "                  'High winds, small-scale':np.array([round(P_b,2)]),\n",
    "                  'Low winds, large-scale':np.array([round(P_c,2)]),\n",
    "                  'High winds, large-scale':np.array([round(P_d,2)])})\n",
    "\n",
    "df"
   ]
  },
  {
   "cell_type": "code",
   "execution_count": 17,
   "metadata": {},
   "outputs": [
    {
     "data": {
      "text/plain": [
       "85.2383434667857"
      ]
     },
     "execution_count": 17,
     "metadata": {},
     "output_type": "execute_result"
    }
   ],
   "source": [
    "energy_generated_year = P_b*0.4*8760\n",
    "energy_demand_year = 200*1e3*12\n",
    "energy_generated_year/energy_demand_year"
   ]
  },
  {
   "cell_type": "markdown",
   "metadata": {},
   "source": [
    "Let the number of households supplied by our power plant be $N$, the monthly generation of a turbine be $G_{month}$ and the monthly demand be $D_{month}$. For a distributed generation plant with good winds, a single turbine operating with a capacity factor (CF) of 40% could power:\n",
    "\n",
    "$N = \\frac{G_{month}}{D_{year}} = \\frac{\\dot{W_s}*CF*730}{D_{month}} \\approx 85 $ households."
   ]
  },
  {
   "cell_type": "code",
   "execution_count": 14,
   "metadata": {},
   "outputs": [
    {
     "data": {
      "text/plain": [
       "8.7890625"
      ]
     },
     "execution_count": 14,
     "metadata": {},
     "output_type": "execute_result"
    }
   ],
   "source": [
    "P_c/P_b"
   ]
  },
  {
   "cell_type": "code",
   "execution_count": 9,
   "metadata": {},
   "outputs": [
    {
     "data": {
      "text/plain": [
       "array(14253.52222462)"
      ]
     },
     "execution_count": 9,
     "metadata": {},
     "output_type": "execute_result"
    }
   ],
   "source": [
    "np.array(P_a)"
   ]
  },
  {
   "cell_type": "markdown",
   "metadata": {},
   "source": [
    "\n",
    "Maybe compare distributed vs grid-connected. \n",
    "\n",
    "Hypothesize effect of simplications/assumptions\n",
    "\n",
    "references throughout"
   ]
  }
 ],
 "metadata": {
  "kernelspec": {
   "display_name": "Python 3",
   "language": "python",
   "name": "python3"
  },
  "language_info": {
   "codemirror_mode": {
    "name": "ipython",
    "version": 3
   },
   "file_extension": ".py",
   "mimetype": "text/x-python",
   "name": "python",
   "nbconvert_exporter": "python",
   "pygments_lexer": "ipython3",
   "version": "3.7.1"
  }
 },
 "nbformat": 4,
 "nbformat_minor": 4
}
